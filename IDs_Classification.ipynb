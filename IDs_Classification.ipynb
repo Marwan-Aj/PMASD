{
  "nbformat": 4,
  "nbformat_minor": 0,
  "metadata": {
    "colab": {
      "name": "[PSMAD]_IDs_Classification_(Final).ipynb",
      "provenance": [],
      "collapsed_sections": [],
      "toc_visible": true,
      "include_colab_link": true
    },
    "kernelspec": {
      "display_name": "Python 3",
      "name": "python3"
    },
    "accelerator": "GPU"
  },
  "cells": [
    {
      "cell_type": "markdown",
      "metadata": {
        "id": "view-in-github",
        "colab_type": "text"
      },
      "source": [
        "<a href=\"https://colab.research.google.com/github/Marwan-Aj/PMASD/blob/main/IDs_Classification.ipynb\" target=\"_parent\"><img src=\"https://colab.research.google.com/assets/colab-badge.svg\" alt=\"Open In Colab\"/></a>"
      ]
    },
    {
      "cell_type": "markdown",
      "metadata": {
        "id": "bxBQ4zxAKt0M"
      },
      "source": [
        "## Import ..."
      ]
    },
    {
      "cell_type": "code",
      "metadata": {
        "colab": {
          "base_uri": "https://localhost:8080/"
        },
        "id": "QnAgHi7UWr3R",
        "outputId": "f119da4f-78b8-48f5-9f26-4f425e6dd176"
      },
      "source": [
        "from google.colab import drive\n",
        "drive.mount('/content/drive')"
      ],
      "execution_count": null,
      "outputs": [
        {
          "output_type": "stream",
          "text": [
            "Drive already mounted at /content/drive; to attempt to forcibly remount, call drive.mount(\"/content/drive\", force_remount=True).\n"
          ],
          "name": "stdout"
        }
      ]
    },
    {
      "cell_type": "code",
      "metadata": {
        "id": "agcPZPAsyHPf"
      },
      "source": [
        "import glob\n",
        "import re\n",
        "import os\n",
        "from pickle import dump, load\n",
        "\n",
        "import pandas as pd\n",
        "import numpy as np\n",
        "import matplotlib.pyplot as plt\n",
        "\n",
        "from scipy.io import wavfile\n",
        "import librosa\n",
        "\n",
        "from sklearn.metrics import classification_report\n",
        "from sklearn.model_selection import train_test_split\n",
        "from sklearn.utils import shuffle\n",
        "from sklearn import preprocessing\n",
        "\n",
        "from keras import Model\n",
        "from keras.utils import to_categorical\n",
        "from keras.models import Sequential \n",
        "from keras.layers import Input, Dense, Conv2D, MaxPooling2D, Flatten, Dropout, BatchNormalization, Activation, ReLU\n",
        "from tensorflow.keras import callbacks"
      ],
      "execution_count": null,
      "outputs": []
    },
    {
      "cell_type": "markdown",
      "metadata": {
        "id": "wxfQQNaFK_wv"
      },
      "source": [
        "## Some parameters + Load dataframes"
      ]
    },
    {
      "cell_type": "code",
      "metadata": {
        "id": "_z_w3A5lyjAC"
      },
      "source": [
        "PATH = 'drive/MyDrive/PMSAD/'\n",
        "\n",
        "train, test = {}, {}\n",
        "machines = ['ToyCar', 'ToyConveyor', 'fan', 'pump', 'slider', 'valve']\n",
        "for machine in machines : \n",
        "  train[machine] = PATH+machine+'/train/*.wav'\n",
        "  test[machine] = PATH+machine+'/test/*.wav'\n",
        "\n",
        "\n",
        "params = {'fe':16000,\n",
        "          'n_fft': 1024,\n",
        "          'n_mels': 128,\n",
        "          'frames': 5,\n",
        "          'hop_length': 512,\n",
        "          'lower_edge_hertz': 0,\n",
        "          'upper_edge_hertz': 8000}\n",
        "\n",
        "logmel_shape = (320, 128, 1)\n",
        "\n",
        "id_shape=(23)\n",
        "machine_shape=(6)\n",
        "asd_shape=(2)\n",
        "unkPb = 'Problem value must be \\'machine\\' or \\'id\\' or \\'asd\\''\n",
        "\n",
        "\n",
        "## Dict avec les correspondances ids actuels vers ids dans {0...22}\n",
        "ids = {}\n",
        "ids['ToyCar'] = {'04':'03',\n",
        "                 '03':'02',\n",
        "                 '02':'01',\n",
        "                 '01':'00'}\n",
        "ids['ToyConveyor'] = {'03':'06',\n",
        "                      '02':'05',\n",
        "                      '01':'04'}\n",
        "ids['fan'] = {'06':'10',\n",
        "              '04':'09',\n",
        "              '02':'08',\n",
        "              '00':'07'}\n",
        "ids['pump'] = {'06':'14',\n",
        "               '04':'13',\n",
        "               '02':'12',\n",
        "               '00':'11'}\n",
        "ids['slider'] = {'06':'18',\n",
        "                 '04':'17',\n",
        "                 '02':'16',\n",
        "                 '00':'15'}\n",
        "ids['valve'] = {'06':'22',\n",
        "                '04':'21',\n",
        "                '02':'20',\n",
        "                '00':'19'}\n",
        "\n",
        "\n",
        "## Charger un df avec les chemins des fichiers audio et leurs classes\n",
        "## Argument : le chemin vers les données train ou test d'une machine\n",
        "## Colonnes df : filepath(str), machine(str), id(str, entre '00' et '22'), asd(int, 0 ou 1)\n",
        "def load_df(path) :\n",
        "  liste = glob.glob(path)\n",
        "  df = pd.DataFrame(liste, columns=['filepath'])\n",
        "  df['machine'] = df['filepath'].apply(lambda x: re.findall(r\"(ToyCar|ToyConveyor|fan|pump|slider|valve)\", x)[0])\n",
        "  df['id'] = df['filepath'].apply(lambda x: re.findall(r\"[0-9]{2}\", x)[0])\n",
        "  df['id'].replace(ids[df['machine'].unique()[0]], inplace=True)\n",
        "  df['asd'] = df['filepath'].apply(lambda x: str(re.findall(r\"(normal|anomaly)\", x)[0])).replace({'normal':1, 'anomaly':0})\n",
        "  return df\n",
        "\n",
        "\n",
        "## Charger 2 dfs (train et test) avec l'ensemble des chemins des fichiers audio et leurs classes\n",
        "## Colonnes df : filepath(str), machine(str), id(str, entre '00' et '22'), asd(int, 0 ou 1)\n",
        "def load_fulldf() : \n",
        "  machine_dfs = []\n",
        "  for path in train.values() :\n",
        "    machine_dfs.append(load_df(path))\n",
        "  df_train = pd.concat(machine_dfs, ignore_index=True)\n",
        "  machine_dfs = []\n",
        "  for path in test.values() :\n",
        "    machine_dfs.append(load_df(path))\n",
        "  df_test = pd.concat(machine_dfs, ignore_index=True)\n",
        "  return df_train, df_test\n"
      ],
      "execution_count": null,
      "outputs": []
    },
    {
      "cell_type": "code",
      "metadata": {
        "colab": {
          "base_uri": "https://localhost:8080/"
        },
        "id": "QKo0wernz1PG",
        "outputId": "88ee374f-a2bd-4fda-a7bc-c14ebe0deaa8"
      },
      "source": [
        "df_train, df_test = load_fulldf()\n",
        "print(\"train :\", df_train.shape)\n",
        "print(\"test :\", df_test.shape)"
      ],
      "execution_count": null,
      "outputs": [
        {
          "output_type": "stream",
          "text": [
            "train : (20119, 4)\n",
            "test : (10868, 4)\n"
          ],
          "name": "stdout"
        }
      ]
    },
    {
      "cell_type": "markdown",
      "metadata": {
        "id": "T6gfRbagLkNT"
      },
      "source": [
        "## Load train audio & target data functions"
      ]
    },
    {
      "cell_type": "code",
      "metadata": {
        "id": "FIp5Z_qBkthW"
      },
      "source": [
        "def load_audio(filepath):\n",
        "    data, fe = librosa.load(filepath, sr=16000)\n",
        "    return data, fe\n",
        "    \n",
        "\n",
        "def logMelSpectrogram(audio, params):\n",
        "\n",
        "    stfts = librosa.stft(audio,\n",
        "                         n_fft = params['n_fft'],\n",
        "                         hop_length = params[\"hop_length\"],\n",
        "                         ).T\n",
        "\n",
        "    power_spectrograms = np.real(stfts * np.conj(stfts))\n",
        "\n",
        "    num_spectrogram_bins = power_spectrograms.shape[-1]\n",
        "\n",
        "    linear_to_mel_weight_matrix = librosa.filters.mel(sr=params['fe'],\n",
        "                                                      n_fft=params['n_fft']+1,\n",
        "                                                      n_mels=params['n_mels'],\n",
        "                                                      fmin=params['lower_edge_hertz'],\n",
        "                                                      fmax=params['upper_edge_hertz']\n",
        "                                                      ).T\n",
        "\n",
        "    mel_spectrograms = np.tensordot(power_spectrograms,\n",
        "                                    linear_to_mel_weight_matrix,\n",
        "                                    1)\n",
        "\n",
        "    return (np.log(mel_spectrograms + 1e-6).astype(np.float32))\n",
        "\n",
        "\n",
        "## Pour charger, dans un narray, les données audio du df en argument\n",
        "def load_data(df, T_max=10.21):\n",
        "  X_audio = []\n",
        "  for i, a_path in enumerate(df.filepath) :\n",
        "    data, fe = load_audio(a_path)\n",
        "    if len(data)>= T_max*fe:\n",
        "      data = data[:int(T_max*fe)]\n",
        "    else :\n",
        "      data = np.concatenate([data, np.zeros(int(T_max*fe - len(data)))])\n",
        "    spectre_audio = logMelSpectrogram(data, params)\n",
        "    X_audio.append(spectre_audio)\n",
        "    if int(i%(df.shape[0]*0.1))==0 : print(i,'on',df.shape[0],'files') \n",
        "  print(\"Done !\")\n",
        "  return np.array(X_audio)\n",
        "\n",
        "\n",
        "## Pour charger les données target train et test, selon la valeur de problem\n",
        "def load_target(df_train, df_test, problem) : \n",
        "  if problem == 'machine' : \n",
        "    ytrain, ytest = df_train.machine, df_test.machine\n",
        "  elif problem == 'id' : \n",
        "    ytrain, ytest = df_train.id, df_test.id\n",
        "  elif problem == 'asd' : \n",
        "    df_train[df_train.machine!=machineRef].asd = 0\n",
        "    df_train[(df_train.machine==machineRef) & (df_train.id!=idRef)].asd = 0\n",
        "    ytrain, ytest = df_train.asd, df_test.asd\n",
        "  else : raise ValueError(unkPb)\n",
        "  return ytrain, ytest"
      ],
      "execution_count": null,
      "outputs": []
    },
    {
      "cell_type": "code",
      "metadata": {
        "colab": {
          "base_uri": "https://localhost:8080/"
        },
        "id": "vZztjNoSeyiT",
        "outputId": "2a1ed86e-d3a1-4080-e69e-9e297c796954"
      },
      "source": [
        "## On charge l'ensemble des données logmel d'entraînement\n",
        "Xtrain_full = load_data(df_train)"
      ],
      "execution_count": null,
      "outputs": [
        {
          "output_type": "stream",
          "text": [
            "0 on 20119 files\n",
            "2012 on 20119 files\n",
            "4024 on 20119 files\n",
            "6036 on 20119 files\n",
            "8048 on 20119 files\n",
            "10060 on 20119 files\n",
            "12072 on 20119 files\n",
            "14084 on 20119 files\n",
            "16096 on 20119 files\n",
            "18108 on 20119 files\n",
            "Done !\n"
          ],
          "name": "stdout"
        }
      ]
    },
    {
      "cell_type": "code",
      "metadata": {
        "id": "pQDltkwQQtSq"
      },
      "source": [
        "## Selon le problème en argument, on charge l'ensemble des données target (train + test)\n",
        "ytrain_full, ytest_full = load_target(df_train, df_test, problem='id')"
      ],
      "execution_count": null,
      "outputs": []
    },
    {
      "cell_type": "markdown",
      "metadata": {
        "id": "Sy1aRI-yLw9y"
      },
      "source": [
        "## Scale + reshape train & validation data"
      ]
    },
    {
      "cell_type": "code",
      "metadata": {
        "colab": {
          "base_uri": "https://localhost:8080/"
        },
        "id": "KtMR5kfh0vt0",
        "outputId": "31bdcc43-5d80-4068-c7c7-539ae90316a0"
      },
      "source": [
        "X = Xtrain_full\n",
        "y = ytrain_full\n",
        "X_train, X_valid, y_train, y_valid = train_test_split(X, y, test_size=0.1, random_state=42)\n",
        "\n",
        "scaler = preprocessing.MinMaxScaler()\n",
        "\n",
        "X_train = X_train.reshape([-1, X_train.shape[1] * X_train.shape[2]])\n",
        "X_train = scaler.fit_transform(X_train)\n",
        "X_train = X_train.reshape([-1, X.shape[1], X.shape[2], 1])\n",
        "y_train = to_categorical(y_train)\n",
        "\n",
        "X_valid = X_valid.reshape([-1, X_valid.shape[1] * X_valid.shape[2]])\n",
        "X_valid = scaler.transform(X_valid)\n",
        "X_valid = X_valid.reshape([-1, X.shape[1], X.shape[2], 1])\n",
        "y_valid = to_categorical(y_valid)\n",
        "\n",
        "## On sauvegarde le data scaler\n",
        "dump(scaler, open(PATH+'scaler.pkl', 'wb'))\n",
        "\n",
        "print(X_train.shape, y_train.shape) \n",
        "print(X_valid.shape, y_valid.shape)"
      ],
      "execution_count": null,
      "outputs": [
        {
          "output_type": "stream",
          "text": [
            "(18107, 320, 128, 1) (18107, 23)\n",
            "(2012, 320, 128, 1) (2012, 23)\n"
          ],
          "name": "stdout"
        }
      ]
    },
    {
      "cell_type": "markdown",
      "metadata": {
        "id": "NV8Xdq2OMKlO"
      },
      "source": [
        "## Model using Conv2D for IDs classification"
      ]
    },
    {
      "cell_type": "code",
      "metadata": {
        "id": "arB6MgiOjEBq"
      },
      "source": [
        "def relu_bn(inputs) :\n",
        "    relu = ReLU()(inputs)\n",
        "    bn = BatchNormalization()(relu)\n",
        "    return bn\n",
        "\n",
        "\n",
        "def create_model(yshape, Xshape=logmel_shape):\n",
        "\n",
        "  inputs = Input(shape=Xshape)\n",
        "\n",
        "  x = Conv2D(32, (5, 5), strides=(2,1), padding='same')(inputs)\n",
        "  x = relu_bn(x)\n",
        "  x = Conv2D(64, (5, 5), strides=(2,1), padding='same')(x)\n",
        "  x = relu_bn(x)\n",
        "  x = Conv2D(128, (3, 3), strides=(1,1), padding='same')(x)\n",
        "  x = MaxPooling2D(pool_size=2)(x)\n",
        "  x = Conv2D(256, (3, 3), strides=(1,1), padding='same')(x)\n",
        "  x = relu_bn(x)\n",
        "  x = MaxPooling2D(pool_size=2)(x)\n",
        "  x = Conv2D(512, (3, 3), strides=(1,1), padding='same')(x)\n",
        "  x = relu_bn(x)\n",
        "  x = MaxPooling2D(pool_size=2)(x)\n",
        "\n",
        "  x = Flatten()(x)\n",
        "\n",
        "  x = Dense(units = 512)(x)\n",
        "  x = relu_bn(x)\n",
        "  x = Dropout(0.2)(x)\n",
        "  x = Dense(units = 512)(x)\n",
        "  x = relu_bn(x)\n",
        "  x = Dropout(0.2)(x)\n",
        "  x = Dense(units = 1024)(x)\n",
        "  x = relu_bn(x)\n",
        "  x = Dropout(0.2)(x)\n",
        "  x = Dense(units = 1024)(x)\n",
        "  x = relu_bn(x)\n",
        "\n",
        "  outputs = Dense(units=yshape, activation='softmax')(x)\n",
        "\n",
        "  model = Model(inputs=inputs, outputs=outputs)\n",
        "\n",
        "  model.compile(optimizer='adam', loss='categorical_crossentropy', metrics=['acc'])\n",
        "\n",
        "  return model\n",
        "\n",
        "\n",
        "\n",
        "lr_plateau = callbacks.ReduceLROnPlateau(monitor = 'val_loss',\n",
        "                                         patience = 10,\n",
        "                                         factor = 0.5,\n",
        "                                         verbose = 0,\n",
        "                                         mode = 'min')\n",
        "\n",
        "checkpoint = callbacks.ModelCheckpoint(filepath = PATH+'checkpoint',\n",
        "                                       save_weights_only = True,\n",
        "                                       monitor = 'val_acc',\n",
        "                                       mode = 'max',\n",
        "                                       save_best_only = True)\n"
      ],
      "execution_count": null,
      "outputs": []
    },
    {
      "cell_type": "code",
      "metadata": {
        "colab": {
          "base_uri": "https://localhost:8080/"
        },
        "id": "6Ss_MrioZfrA",
        "outputId": "58818428-b00a-4547-a038-059bb408d3d2"
      },
      "source": [
        "model = create_model(yshape=id_shape)\n",
        "\n",
        "model.summary()"
      ],
      "execution_count": null,
      "outputs": [
        {
          "output_type": "stream",
          "text": [
            "Model: \"model\"\n",
            "_________________________________________________________________\n",
            "Layer (type)                 Output Shape              Param #   \n",
            "=================================================================\n",
            "input_1 (InputLayer)         [(None, 320, 128, 1)]     0         \n",
            "_________________________________________________________________\n",
            "conv2d (Conv2D)              (None, 160, 128, 32)      832       \n",
            "_________________________________________________________________\n",
            "re_lu (ReLU)                 (None, 160, 128, 32)      0         \n",
            "_________________________________________________________________\n",
            "batch_normalization (BatchNo (None, 160, 128, 32)      128       \n",
            "_________________________________________________________________\n",
            "conv2d_1 (Conv2D)            (None, 80, 128, 64)       51264     \n",
            "_________________________________________________________________\n",
            "re_lu_1 (ReLU)               (None, 80, 128, 64)       0         \n",
            "_________________________________________________________________\n",
            "batch_normalization_1 (Batch (None, 80, 128, 64)       256       \n",
            "_________________________________________________________________\n",
            "conv2d_2 (Conv2D)            (None, 80, 128, 128)      73856     \n",
            "_________________________________________________________________\n",
            "max_pooling2d (MaxPooling2D) (None, 40, 64, 128)       0         \n",
            "_________________________________________________________________\n",
            "conv2d_3 (Conv2D)            (None, 40, 64, 256)       295168    \n",
            "_________________________________________________________________\n",
            "re_lu_2 (ReLU)               (None, 40, 64, 256)       0         \n",
            "_________________________________________________________________\n",
            "batch_normalization_2 (Batch (None, 40, 64, 256)       1024      \n",
            "_________________________________________________________________\n",
            "max_pooling2d_1 (MaxPooling2 (None, 20, 32, 256)       0         \n",
            "_________________________________________________________________\n",
            "conv2d_4 (Conv2D)            (None, 20, 32, 512)       1180160   \n",
            "_________________________________________________________________\n",
            "re_lu_3 (ReLU)               (None, 20, 32, 512)       0         \n",
            "_________________________________________________________________\n",
            "batch_normalization_3 (Batch (None, 20, 32, 512)       2048      \n",
            "_________________________________________________________________\n",
            "max_pooling2d_2 (MaxPooling2 (None, 10, 16, 512)       0         \n",
            "_________________________________________________________________\n",
            "flatten (Flatten)            (None, 81920)             0         \n",
            "_________________________________________________________________\n",
            "dense (Dense)                (None, 512)               41943552  \n",
            "_________________________________________________________________\n",
            "re_lu_4 (ReLU)               (None, 512)               0         \n",
            "_________________________________________________________________\n",
            "batch_normalization_4 (Batch (None, 512)               2048      \n",
            "_________________________________________________________________\n",
            "dropout (Dropout)            (None, 512)               0         \n",
            "_________________________________________________________________\n",
            "dense_1 (Dense)              (None, 512)               262656    \n",
            "_________________________________________________________________\n",
            "re_lu_5 (ReLU)               (None, 512)               0         \n",
            "_________________________________________________________________\n",
            "batch_normalization_5 (Batch (None, 512)               2048      \n",
            "_________________________________________________________________\n",
            "dropout_1 (Dropout)          (None, 512)               0         \n",
            "_________________________________________________________________\n",
            "dense_2 (Dense)              (None, 1024)              525312    \n",
            "_________________________________________________________________\n",
            "re_lu_6 (ReLU)               (None, 1024)              0         \n",
            "_________________________________________________________________\n",
            "batch_normalization_6 (Batch (None, 1024)              4096      \n",
            "_________________________________________________________________\n",
            "dropout_2 (Dropout)          (None, 1024)              0         \n",
            "_________________________________________________________________\n",
            "dense_3 (Dense)              (None, 1024)              1049600   \n",
            "_________________________________________________________________\n",
            "re_lu_7 (ReLU)               (None, 1024)              0         \n",
            "_________________________________________________________________\n",
            "batch_normalization_7 (Batch (None, 1024)              4096      \n",
            "_________________________________________________________________\n",
            "dense_4 (Dense)              (None, 23)                23575     \n",
            "=================================================================\n",
            "Total params: 45,421,719\n",
            "Trainable params: 45,413,847\n",
            "Non-trainable params: 7,872\n",
            "_________________________________________________________________\n"
          ],
          "name": "stdout"
        }
      ]
    },
    {
      "cell_type": "code",
      "metadata": {
        "colab": {
          "base_uri": "https://localhost:8080/",
          "height": 1000
        },
        "id": "x8rqtt9mU5tT",
        "outputId": "e9b431ee-c858-4b66-9e20-a732d059157d"
      },
      "source": [
        "history = model.fit(X_train, y_train,\n",
        "                    batch_size=256, epochs=100,\n",
        "                    validation_data=(X_valid, y_valid),\n",
        "                    callbacks = [lr_plateau, checkpoint],\n",
        "                    verbose=1)\n",
        "\n",
        "plt.figure(figsize=(16,6))\n",
        "plt.plot(history.history['acc'])\n",
        "plt.plot(history.history['val_acc'])\n",
        "plt.title('model accuracy')\n",
        "plt.ylabel('accuracy')\n",
        "plt.xlabel('epoch')\n",
        "plt.legend(['train', 'validation'])\n",
        "plt.show()"
      ],
      "execution_count": null,
      "outputs": [
        {
          "output_type": "stream",
          "text": [
            "Epoch 1/100\n",
            "71/71 [==============================] - 92s 1s/step - loss: 1.6579 - acc: 0.5033 - val_loss: 8.8102 - val_acc: 0.0527\n",
            "Epoch 2/100\n",
            "71/71 [==============================] - 73s 1s/step - loss: 0.1617 - acc: 0.9435 - val_loss: 13.2534 - val_acc: 0.0527\n",
            "Epoch 3/100\n",
            "71/71 [==============================] - 73s 1s/step - loss: 0.0768 - acc: 0.9751 - val_loss: 17.0270 - val_acc: 0.0472\n",
            "Epoch 4/100\n",
            "71/71 [==============================] - 73s 1s/step - loss: 0.0448 - acc: 0.9846 - val_loss: 38.3964 - val_acc: 0.0472\n",
            "Epoch 5/100\n",
            "71/71 [==============================] - 73s 1s/step - loss: 0.0240 - acc: 0.9919 - val_loss: 65.9712 - val_acc: 0.0586\n",
            "Epoch 6/100\n",
            "71/71 [==============================] - 73s 1s/step - loss: 0.0193 - acc: 0.9941 - val_loss: 36.1804 - val_acc: 0.0492\n",
            "Epoch 7/100\n",
            "71/71 [==============================] - 73s 1s/step - loss: 0.0169 - acc: 0.9940 - val_loss: 15.2714 - val_acc: 0.1262\n",
            "Epoch 8/100\n",
            "71/71 [==============================] - 73s 1s/step - loss: 0.0249 - acc: 0.9922 - val_loss: 10.7646 - val_acc: 0.1466\n",
            "Epoch 9/100\n",
            "71/71 [==============================] - 73s 1s/step - loss: 0.0317 - acc: 0.9893 - val_loss: 0.5597 - val_acc: 0.8802\n",
            "Epoch 10/100\n",
            "71/71 [==============================] - 73s 1s/step - loss: 0.0199 - acc: 0.9928 - val_loss: 0.4696 - val_acc: 0.8772\n",
            "Epoch 11/100\n",
            "71/71 [==============================] - 73s 1s/step - loss: 0.0078 - acc: 0.9972 - val_loss: 0.2410 - val_acc: 0.9563\n",
            "Epoch 12/100\n",
            "71/71 [==============================] - 73s 1s/step - loss: 0.0070 - acc: 0.9974 - val_loss: 0.0549 - val_acc: 0.9841\n",
            "Epoch 13/100\n",
            "71/71 [==============================] - 73s 1s/step - loss: 0.0060 - acc: 0.9980 - val_loss: 0.8556 - val_acc: 0.8782\n",
            "Epoch 14/100\n",
            "71/71 [==============================] - 73s 1s/step - loss: 0.0101 - acc: 0.9970 - val_loss: 0.3141 - val_acc: 0.9140\n",
            "Epoch 15/100\n",
            "71/71 [==============================] - 73s 1s/step - loss: 0.0199 - acc: 0.9945 - val_loss: 0.2250 - val_acc: 0.9404\n",
            "Epoch 16/100\n",
            "71/71 [==============================] - 73s 1s/step - loss: 0.0072 - acc: 0.9978 - val_loss: 0.1337 - val_acc: 0.9687\n",
            "Epoch 17/100\n",
            "71/71 [==============================] - 73s 1s/step - loss: 0.0136 - acc: 0.9962 - val_loss: 1.2618 - val_acc: 0.7425\n",
            "Epoch 18/100\n",
            "71/71 [==============================] - 73s 1s/step - loss: 0.0120 - acc: 0.9964 - val_loss: 2.0627 - val_acc: 0.6769\n",
            "Epoch 19/100\n",
            "71/71 [==============================] - 73s 1s/step - loss: 0.0083 - acc: 0.9975 - val_loss: 0.0399 - val_acc: 0.9856\n",
            "Epoch 20/100\n",
            "71/71 [==============================] - 73s 1s/step - loss: 0.0073 - acc: 0.9979 - val_loss: 0.2624 - val_acc: 0.9433\n",
            "Epoch 21/100\n",
            "71/71 [==============================] - 73s 1s/step - loss: 0.0059 - acc: 0.9984 - val_loss: 1.6129 - val_acc: 0.6705\n",
            "Epoch 22/100\n",
            "71/71 [==============================] - 73s 1s/step - loss: 0.0053 - acc: 0.9987 - val_loss: 0.1221 - val_acc: 0.9692\n",
            "Epoch 23/100\n",
            "71/71 [==============================] - 73s 1s/step - loss: 0.0042 - acc: 0.9985 - val_loss: 0.2536 - val_acc: 0.9428\n",
            "Epoch 24/100\n",
            "71/71 [==============================] - 73s 1s/step - loss: 0.0108 - acc: 0.9969 - val_loss: 0.6748 - val_acc: 0.8757\n",
            "Epoch 25/100\n",
            "71/71 [==============================] - 73s 1s/step - loss: 0.0110 - acc: 0.9960 - val_loss: 0.1016 - val_acc: 0.9727\n",
            "Epoch 26/100\n",
            "71/71 [==============================] - 73s 1s/step - loss: 0.0110 - acc: 0.9968 - val_loss: 2.2620 - val_acc: 0.6909\n",
            "Epoch 27/100\n",
            "71/71 [==============================] - 73s 1s/step - loss: 0.0021 - acc: 0.9991 - val_loss: 0.1236 - val_acc: 0.9737\n",
            "Epoch 28/100\n",
            "71/71 [==============================] - 73s 1s/step - loss: 0.0016 - acc: 0.9995 - val_loss: 0.0509 - val_acc: 0.9871\n",
            "Epoch 29/100\n",
            "71/71 [==============================] - 73s 1s/step - loss: 7.4515e-04 - acc: 0.9999 - val_loss: 0.0463 - val_acc: 0.9881\n",
            "Epoch 30/100\n",
            "71/71 [==============================] - 73s 1s/step - loss: 0.0025 - acc: 0.9997 - val_loss: 0.0122 - val_acc: 0.9960\n",
            "Epoch 31/100\n",
            "71/71 [==============================] - 73s 1s/step - loss: 2.0156e-04 - acc: 1.0000 - val_loss: 0.0101 - val_acc: 0.9975\n",
            "Epoch 32/100\n",
            "71/71 [==============================] - 73s 1s/step - loss: 9.9446e-05 - acc: 1.0000 - val_loss: 0.0081 - val_acc: 0.9980\n",
            "Epoch 33/100\n",
            "71/71 [==============================] - 73s 1s/step - loss: 6.9808e-05 - acc: 1.0000 - val_loss: 0.0062 - val_acc: 0.9975\n",
            "Epoch 34/100\n",
            "71/71 [==============================] - 73s 1s/step - loss: 5.2982e-05 - acc: 1.0000 - val_loss: 0.0057 - val_acc: 0.9975\n",
            "Epoch 35/100\n",
            "71/71 [==============================] - 73s 1s/step - loss: 7.9363e-05 - acc: 1.0000 - val_loss: 0.0119 - val_acc: 0.9950\n",
            "Epoch 36/100\n",
            "71/71 [==============================] - 73s 1s/step - loss: 4.8444e-04 - acc: 0.9998 - val_loss: 0.0060 - val_acc: 0.9970\n",
            "Epoch 37/100\n",
            "71/71 [==============================] - 73s 1s/step - loss: 3.8786e-05 - acc: 1.0000 - val_loss: 0.0067 - val_acc: 0.9980\n",
            "Epoch 38/100\n",
            "71/71 [==============================] - 73s 1s/step - loss: 3.8745e-05 - acc: 1.0000 - val_loss: 0.0062 - val_acc: 0.9975\n",
            "Epoch 39/100\n",
            "71/71 [==============================] - 73s 1s/step - loss: 5.3632e-05 - acc: 1.0000 - val_loss: 0.0056 - val_acc: 0.9975\n",
            "Epoch 40/100\n",
            "71/71 [==============================] - 73s 1s/step - loss: 2.9467e-05 - acc: 1.0000 - val_loss: 0.0059 - val_acc: 0.9975\n",
            "Epoch 41/100\n",
            "71/71 [==============================] - 73s 1s/step - loss: 3.3256e-05 - acc: 1.0000 - val_loss: 0.0062 - val_acc: 0.9975\n",
            "Epoch 42/100\n",
            "71/71 [==============================] - 73s 1s/step - loss: 2.6262e-05 - acc: 1.0000 - val_loss: 0.0065 - val_acc: 0.9975\n",
            "Epoch 43/100\n",
            "71/71 [==============================] - 73s 1s/step - loss: 4.8353e-05 - acc: 1.0000 - val_loss: 0.0056 - val_acc: 0.9980\n",
            "Epoch 44/100\n",
            "71/71 [==============================] - 73s 1s/step - loss: 3.3078e-05 - acc: 1.0000 - val_loss: 0.0061 - val_acc: 0.9975\n",
            "Epoch 45/100\n",
            "71/71 [==============================] - 73s 1s/step - loss: 2.2183e-05 - acc: 1.0000 - val_loss: 0.0065 - val_acc: 0.9970\n",
            "Epoch 46/100\n",
            "71/71 [==============================] - 73s 1s/step - loss: 2.9113e-05 - acc: 1.0000 - val_loss: 0.0066 - val_acc: 0.9975\n",
            "Epoch 47/100\n",
            "71/71 [==============================] - 73s 1s/step - loss: 2.0566e-05 - acc: 1.0000 - val_loss: 0.0063 - val_acc: 0.9975\n",
            "Epoch 48/100\n",
            "71/71 [==============================] - 73s 1s/step - loss: 1.4776e-05 - acc: 1.0000 - val_loss: 0.0064 - val_acc: 0.9975\n",
            "Epoch 49/100\n",
            "71/71 [==============================] - 73s 1s/step - loss: 2.7613e-05 - acc: 1.0000 - val_loss: 0.0082 - val_acc: 0.9970\n",
            "Epoch 50/100\n",
            "71/71 [==============================] - 73s 1s/step - loss: 1.8708e-05 - acc: 1.0000 - val_loss: 0.0072 - val_acc: 0.9970\n",
            "Epoch 51/100\n",
            "71/71 [==============================] - 73s 1s/step - loss: 2.3652e-05 - acc: 1.0000 - val_loss: 0.0067 - val_acc: 0.9975\n",
            "Epoch 52/100\n",
            "71/71 [==============================] - 73s 1s/step - loss: 2.8843e-05 - acc: 1.0000 - val_loss: 0.0071 - val_acc: 0.9975\n",
            "Epoch 53/100\n",
            "71/71 [==============================] - 73s 1s/step - loss: 2.7558e-05 - acc: 1.0000 - val_loss: 0.0071 - val_acc: 0.9975\n",
            "Epoch 54/100\n",
            "71/71 [==============================] - 73s 1s/step - loss: 1.4563e-05 - acc: 1.0000 - val_loss: 0.0071 - val_acc: 0.9975\n",
            "Epoch 55/100\n",
            "71/71 [==============================] - 73s 1s/step - loss: 1.2057e-05 - acc: 1.0000 - val_loss: 0.0070 - val_acc: 0.9975\n",
            "Epoch 56/100\n",
            "71/71 [==============================] - 73s 1s/step - loss: 1.6256e-05 - acc: 1.0000 - val_loss: 0.0077 - val_acc: 0.9975\n",
            "Epoch 57/100\n",
            "71/71 [==============================] - 73s 1s/step - loss: 1.7068e-05 - acc: 1.0000 - val_loss: 0.0071 - val_acc: 0.9975\n",
            "Epoch 58/100\n",
            "71/71 [==============================] - 73s 1s/step - loss: 1.2571e-05 - acc: 1.0000 - val_loss: 0.0070 - val_acc: 0.9975\n",
            "Epoch 59/100\n",
            "71/71 [==============================] - 73s 1s/step - loss: 1.3682e-05 - acc: 1.0000 - val_loss: 0.0069 - val_acc: 0.9975\n",
            "Epoch 60/100\n",
            "71/71 [==============================] - 73s 1s/step - loss: 1.7616e-05 - acc: 1.0000 - val_loss: 0.0067 - val_acc: 0.9975\n",
            "Epoch 61/100\n",
            "71/71 [==============================] - 73s 1s/step - loss: 7.8203e-06 - acc: 1.0000 - val_loss: 0.0069 - val_acc: 0.9975\n",
            "Epoch 62/100\n",
            "71/71 [==============================] - 73s 1s/step - loss: 9.4671e-06 - acc: 1.0000 - val_loss: 0.0069 - val_acc: 0.9980\n",
            "Epoch 63/100\n",
            "71/71 [==============================] - 73s 1s/step - loss: 1.5689e-05 - acc: 1.0000 - val_loss: 0.0068 - val_acc: 0.9980\n",
            "Epoch 64/100\n",
            "71/71 [==============================] - 73s 1s/step - loss: 1.3173e-05 - acc: 1.0000 - val_loss: 0.0068 - val_acc: 0.9975\n",
            "Epoch 65/100\n",
            "71/71 [==============================] - 73s 1s/step - loss: 8.9238e-06 - acc: 1.0000 - val_loss: 0.0068 - val_acc: 0.9975\n",
            "Epoch 66/100\n",
            "71/71 [==============================] - 73s 1s/step - loss: 9.2965e-06 - acc: 1.0000 - val_loss: 0.0068 - val_acc: 0.9975\n",
            "Epoch 67/100\n",
            "71/71 [==============================] - 73s 1s/step - loss: 1.1349e-05 - acc: 1.0000 - val_loss: 0.0066 - val_acc: 0.9975\n",
            "Epoch 68/100\n",
            "71/71 [==============================] - 73s 1s/step - loss: 2.3831e-05 - acc: 1.0000 - val_loss: 0.0068 - val_acc: 0.9975\n",
            "Epoch 69/100\n",
            "71/71 [==============================] - 73s 1s/step - loss: 6.8986e-06 - acc: 1.0000 - val_loss: 0.0067 - val_acc: 0.9975\n",
            "Epoch 70/100\n",
            "71/71 [==============================] - 73s 1s/step - loss: 1.1037e-05 - acc: 1.0000 - val_loss: 0.0068 - val_acc: 0.9975\n",
            "Epoch 71/100\n",
            "71/71 [==============================] - 73s 1s/step - loss: 1.0499e-05 - acc: 1.0000 - val_loss: 0.0068 - val_acc: 0.9975\n",
            "Epoch 72/100\n",
            "71/71 [==============================] - 73s 1s/step - loss: 9.2058e-06 - acc: 1.0000 - val_loss: 0.0066 - val_acc: 0.9975\n",
            "Epoch 73/100\n",
            "71/71 [==============================] - 73s 1s/step - loss: 9.4495e-06 - acc: 1.0000 - val_loss: 0.0067 - val_acc: 0.9975\n",
            "Epoch 74/100\n",
            "71/71 [==============================] - 73s 1s/step - loss: 1.1291e-05 - acc: 1.0000 - val_loss: 0.0066 - val_acc: 0.9975\n",
            "Epoch 75/100\n",
            "71/71 [==============================] - 73s 1s/step - loss: 1.1784e-05 - acc: 1.0000 - val_loss: 0.0065 - val_acc: 0.9975\n",
            "Epoch 76/100\n",
            "71/71 [==============================] - 73s 1s/step - loss: 9.6424e-06 - acc: 1.0000 - val_loss: 0.0064 - val_acc: 0.9975\n",
            "Epoch 77/100\n",
            "71/71 [==============================] - 73s 1s/step - loss: 7.5817e-06 - acc: 1.0000 - val_loss: 0.0064 - val_acc: 0.9975\n",
            "Epoch 78/100\n",
            "71/71 [==============================] - 73s 1s/step - loss: 1.6300e-05 - acc: 1.0000 - val_loss: 0.0067 - val_acc: 0.9975\n",
            "Epoch 79/100\n",
            "71/71 [==============================] - 73s 1s/step - loss: 9.1175e-06 - acc: 1.0000 - val_loss: 0.0067 - val_acc: 0.9975\n",
            "Epoch 80/100\n",
            "71/71 [==============================] - 73s 1s/step - loss: 6.7407e-06 - acc: 1.0000 - val_loss: 0.0066 - val_acc: 0.9975\n",
            "Epoch 81/100\n",
            "71/71 [==============================] - 73s 1s/step - loss: 1.0083e-05 - acc: 1.0000 - val_loss: 0.0066 - val_acc: 0.9975\n",
            "Epoch 82/100\n",
            "71/71 [==============================] - 73s 1s/step - loss: 1.3052e-05 - acc: 1.0000 - val_loss: 0.0066 - val_acc: 0.9975\n",
            "Epoch 83/100\n",
            "71/71 [==============================] - 73s 1s/step - loss: 1.0413e-05 - acc: 1.0000 - val_loss: 0.0065 - val_acc: 0.9975\n",
            "Epoch 84/100\n",
            "71/71 [==============================] - 73s 1s/step - loss: 8.4933e-06 - acc: 1.0000 - val_loss: 0.0065 - val_acc: 0.9975\n",
            "Epoch 85/100\n",
            "71/71 [==============================] - 73s 1s/step - loss: 1.0230e-05 - acc: 1.0000 - val_loss: 0.0064 - val_acc: 0.9975\n",
            "Epoch 86/100\n",
            "71/71 [==============================] - 73s 1s/step - loss: 1.0395e-05 - acc: 1.0000 - val_loss: 0.0063 - val_acc: 0.9980\n",
            "Epoch 87/100\n",
            "71/71 [==============================] - 73s 1s/step - loss: 6.4513e-06 - acc: 1.0000 - val_loss: 0.0064 - val_acc: 0.9980\n",
            "Epoch 88/100\n",
            "71/71 [==============================] - 73s 1s/step - loss: 9.6810e-06 - acc: 1.0000 - val_loss: 0.0065 - val_acc: 0.9975\n",
            "Epoch 89/100\n",
            "71/71 [==============================] - 73s 1s/step - loss: 8.4236e-06 - acc: 1.0000 - val_loss: 0.0064 - val_acc: 0.9975\n",
            "Epoch 90/100\n",
            "71/71 [==============================] - 73s 1s/step - loss: 1.7136e-05 - acc: 1.0000 - val_loss: 0.0065 - val_acc: 0.9975\n",
            "Epoch 91/100\n",
            "71/71 [==============================] - 73s 1s/step - loss: 7.5178e-06 - acc: 1.0000 - val_loss: 0.0065 - val_acc: 0.9975\n",
            "Epoch 92/100\n",
            "71/71 [==============================] - 73s 1s/step - loss: 8.7271e-06 - acc: 1.0000 - val_loss: 0.0065 - val_acc: 0.9975\n",
            "Epoch 93/100\n",
            "71/71 [==============================] - 73s 1s/step - loss: 8.9695e-06 - acc: 1.0000 - val_loss: 0.0065 - val_acc: 0.9975\n",
            "Epoch 94/100\n",
            "71/71 [==============================] - 73s 1s/step - loss: 1.1102e-05 - acc: 1.0000 - val_loss: 0.0065 - val_acc: 0.9980\n",
            "Epoch 95/100\n",
            "71/71 [==============================] - 73s 1s/step - loss: 7.2603e-06 - acc: 1.0000 - val_loss: 0.0064 - val_acc: 0.9980\n",
            "Epoch 96/100\n",
            "71/71 [==============================] - 73s 1s/step - loss: 9.1751e-06 - acc: 1.0000 - val_loss: 0.0064 - val_acc: 0.9980\n",
            "Epoch 97/100\n",
            "71/71 [==============================] - 73s 1s/step - loss: 7.3514e-06 - acc: 1.0000 - val_loss: 0.0064 - val_acc: 0.9980\n",
            "Epoch 98/100\n",
            "71/71 [==============================] - 73s 1s/step - loss: 7.3775e-06 - acc: 1.0000 - val_loss: 0.0064 - val_acc: 0.9980\n",
            "Epoch 99/100\n",
            "71/71 [==============================] - 73s 1s/step - loss: 9.5210e-06 - acc: 1.0000 - val_loss: 0.0064 - val_acc: 0.9975\n",
            "Epoch 100/100\n",
            "71/71 [==============================] - 73s 1s/step - loss: 1.6448e-05 - acc: 1.0000 - val_loss: 0.0065 - val_acc: 0.9975\n"
          ],
          "name": "stdout"
        },
        {
          "output_type": "display_data",
          "data": {
            "image/png": "[encoded data removed]",
            "text/plain": [
              "<Figure size 1152x432 with 1 Axes>"
            ]
          },
          "metadata": {
            "tags": [],
            "needs_background": "light"
          }
        }
      ]
    }
  ]
}
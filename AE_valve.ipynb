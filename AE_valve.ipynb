{
  "nbformat": 4,
  "nbformat_minor": 0,
  "metadata": {
    "accelerator": "GPU",
    "colab": {
      "name": "valve_AE.ipynb",
      "provenance": [],
      "collapsed_sections": [],
      "machine_shape": "hm",
      "include_colab_link": true
    },
    "kernelspec": {
      "display_name": "tfgpu Python3.7",
      "language": "python",
      "name": "tfgpu"
    },
    "language_info": {
      "codemirror_mode": {
        "name": "ipython",
        "version": 3
      },
      "file_extension": ".py",
      "mimetype": "text/x-python",
      "name": "python",
      "nbconvert_exporter": "python",
      "pygments_lexer": "ipython3",
      "version": "3.7.9"
    }
  },
  "cells": [
    {
      "cell_type": "markdown",
      "metadata": {
        "id": "view-in-github",
        "colab_type": "text"
      },
      "source": [
        "<a href=\"https://colab.research.google.com/github/Marwan-Aj/PMASD/blob/main/AE_valve.ipynb\" target=\"_parent\"><img src=\"https://colab.research.google.com/assets/colab-badge.svg\" alt=\"Open In Colab\"/></a>"
      ]
    },
    {
      "cell_type": "markdown",
      "metadata": {
        "id": "d-SStPUS_dvu",
        "outputId": "469de780-78bf-4d9f-a24e-dae196827433"
      },
      "source": [
        "!ls \"/content/gdrive/My Drive/PMASD/\""
      ]
    },
    {
      "cell_type": "code",
      "metadata": {
        "colab": {
          "base_uri": "https://localhost:8080/"
        },
        "id": "bonqZWfJRCnb",
        "outputId": "a97a0ab3-353a-4b28-ff22-74570be8627d"
      },
      "source": [
        "from google.colab import drive\n",
        "drive.mount('/content/drive')"
      ],
      "execution_count": null,
      "outputs": [
        {
          "output_type": "stream",
          "text": [
            "Mounted at /content/drive\n"
          ],
          "name": "stdout"
        }
      ]
    },
    {
      "cell_type": "code",
      "metadata": {
        "id": "op8zQXGN-xY-"
      },
      "source": [
        "import glob \n",
        "import os\n",
        "import re\n",
        "import joblib\n",
        "import librosa\n",
        "import sys\n",
        "from tqdm import tqdm\n",
        "import numpy as np\n",
        "import pandas as pd\n",
        "import seaborn as sns\n",
        "import matplotlib.pyplot as plt\n",
        "from matplotlib import cm\n",
        "%matplotlib inline\n",
        "\n",
        "import tensorflow as tf\n",
        "from tensorflow.keras.models import Sequential\n",
        "from tensorflow.keras.layers import Input, BatchNormalization, Activation, Dropout, Reshape, LeakyReLU\n",
        "from tensorflow.keras.layers import Conv2D, Conv2DTranspose, Flatten, Dense\n",
        "from tensorflow.keras import Model,layers, losses\n",
        "from tensorflow.keras.optimizers import Adam\n",
        "from tensorflow.keras import utils\n",
        "from tensorflow.keras import callbacks\n",
        "from keras.utils.vis_utils import plot_model\n",
        "from keras.backend import int_shape\n",
        "\n",
        "from sklearn.model_selection import train_test_split\n",
        "from sklearn import metrics, preprocessing\n",
        "from sklearn.metrics import classification_report, confusion_matrix\n",
        "from sklearn.metrics import roc_curve, auc, roc_auc_score\n",
        "import itertools"
      ],
      "execution_count": null,
      "outputs": []
    },
    {
      "cell_type": "markdown",
      "metadata": {
        "id": "rCVkR4ylMetn"
      },
      "source": [
        "## Import des données"
      ]
    },
    {
      "cell_type": "code",
      "metadata": {
        "colab": {
          "base_uri": "https://localhost:8080/",
          "height": 235
        },
        "id": "CrH08pD4-MmH",
        "outputId": "f3261979-a1df-4ba8-e839-23ed3e359c81"
      },
      "source": [
        "PATH = '/content/drive/MyDrive/PMASD/'\n",
        "machine = 'valve'\n",
        "\n",
        "dtrain = PATH + machine + '/train/*.wav'\n",
        "dtest = PATH + machine+ '/test/*.wav'\n",
        "\n",
        "def load_df(path) :\n",
        "  liste = glob.glob(path)\n",
        "  df = pd.DataFrame(liste, columns=['filepath'])\n",
        "  df['id'] = df['filepath'].apply(lambda x: re.findall(r\"[0-9]{2}\", x)[0])\n",
        "  df['label'] = df['filepath'].apply(lambda x: str(re.findall(r\"(normal|anomaly)\", x)[0])).replace({'normal':0, 'anomaly':1})\n",
        "  return df\n",
        "\n",
        "df_train = load_df(dtrain)\n",
        "df_test = load_df(dtest)\n",
        "\n",
        "\n",
        "df_test.sample(6)"
      ],
      "execution_count": null,
      "outputs": [
        {
          "output_type": "execute_result",
          "data": {
            "text/html": [
              "<div>\n",
              "<style scoped>\n",
              "    .dataframe tbody tr th:only-of-type {\n",
              "        vertical-align: middle;\n",
              "    }\n",
              "\n",
              "    .dataframe tbody tr th {\n",
              "        vertical-align: top;\n",
              "    }\n",
              "\n",
              "    .dataframe thead th {\n",
              "        text-align: right;\n",
              "    }\n",
              "</style>\n",
              "<table border=\"1\" class=\"dataframe\">\n",
              "  <thead>\n",
              "    <tr style=\"text-align: right;\">\n",
              "      <th></th>\n",
              "      <th>filepath</th>\n",
              "      <th>id</th>\n",
              "      <th>label</th>\n",
              "    </tr>\n",
              "  </thead>\n",
              "  <tbody>\n",
              "    <tr>\n",
              "      <th>865</th>\n",
              "      <td>/content/drive/MyDrive/PMASD/valve/test/normal...</td>\n",
              "      <td>06</td>\n",
              "      <td>0</td>\n",
              "    </tr>\n",
              "    <tr>\n",
              "      <th>531</th>\n",
              "      <td>/content/drive/MyDrive/PMASD/valve/test/normal...</td>\n",
              "      <td>00</td>\n",
              "      <td>0</td>\n",
              "    </tr>\n",
              "    <tr>\n",
              "      <th>487</th>\n",
              "      <td>/content/drive/MyDrive/PMASD/valve/test/anomal...</td>\n",
              "      <td>06</td>\n",
              "      <td>1</td>\n",
              "    </tr>\n",
              "    <tr>\n",
              "      <th>419</th>\n",
              "      <td>/content/drive/MyDrive/PMASD/valve/test/anomal...</td>\n",
              "      <td>06</td>\n",
              "      <td>1</td>\n",
              "    </tr>\n",
              "    <tr>\n",
              "      <th>233</th>\n",
              "      <td>/content/drive/MyDrive/PMASD/valve/test/anomal...</td>\n",
              "      <td>02</td>\n",
              "      <td>1</td>\n",
              "    </tr>\n",
              "    <tr>\n",
              "      <th>767</th>\n",
              "      <td>/content/drive/MyDrive/PMASD/valve/test/normal...</td>\n",
              "      <td>06</td>\n",
              "      <td>0</td>\n",
              "    </tr>\n",
              "  </tbody>\n",
              "</table>\n",
              "</div>"
            ],
            "text/plain": [
              "                                              filepath  id  label\n",
              "865  /content/drive/MyDrive/PMASD/valve/test/normal...  06      0\n",
              "531  /content/drive/MyDrive/PMASD/valve/test/normal...  00      0\n",
              "487  /content/drive/MyDrive/PMASD/valve/test/anomal...  06      1\n",
              "419  /content/drive/MyDrive/PMASD/valve/test/anomal...  06      1\n",
              "233  /content/drive/MyDrive/PMASD/valve/test/anomal...  02      1\n",
              "767  /content/drive/MyDrive/PMASD/valve/test/normal...  06      0"
            ]
          },
          "metadata": {
            "tags": []
          },
          "execution_count": 3
        }
      ]
    },
    {
      "cell_type": "code",
      "metadata": {
        "id": "TNOOTiC-GcGq"
      },
      "source": [
        "def load_audio(audio_path):\n",
        "    audio, fe = librosa.load(audio_path, sr=None, duration=10)  # limiter l'import d'audio à 10sec\n",
        "    return audio, fe \n",
        "\n",
        "params = {'n_mels': 128,\n",
        "          'n_fft': 1024,\n",
        "          'hop_length': 512,\n",
        "          'power': 2.0}\n"
      ],
      "execution_count": null,
      "outputs": []
    },
    {
      "cell_type": "markdown",
      "metadata": {
        "id": "Y8x3c1EtMkKG"
      },
      "source": [
        "### Génération des features"
      ]
    },
    {
      "cell_type": "code",
      "metadata": {
        "id": "3OuBhY8UhuCi"
      },
      "source": [
        "def get_features(file_name,\n",
        "                 n_mels=params['n_mels'],\n",
        "                 n_fft=params['n_fft'],\n",
        "                 hop_length=params['hop_length'],\n",
        "                 power=params['power']):\n",
        "    \"\"\"\n",
        "    convert file_name to a vector array.\n",
        "\n",
        "    file_name : str\n",
        "        target .wav file\n",
        "\n",
        "    return : numpy.array( numpy.array( float ) )\n",
        "        vector array\n",
        "        * dataset.shape = (dataset_size, feature_vector_length)\n",
        "    \"\"\"\n",
        "    # load audio\n",
        "    audio, fe = load_audio(file_name)\n",
        "    \n",
        "    # generate melspectrogram using librosa\n",
        "    mel_spectrogram = librosa.feature.melspectrogram(y=audio,\n",
        "                                                     sr=fe,\n",
        "                                                     n_fft=n_fft,\n",
        "                                                     hop_length=hop_length,\n",
        "                                                     n_mels=n_mels,\n",
        "                                                     power=power)\n",
        "    # MFECs\n",
        "    log_mel_energy = librosa.core.power_to_db(mel_spectrogram)\n",
        "       \n",
        "    vector_array = log_mel_energy.T    # transpose for the time axis to be in axis=0  dim(313, 128)\n",
        "\n",
        "    ## run only after scaler is fitted\n",
        "    vector_array = scaler.transform(vector_array)\n",
        "\n",
        "            \n",
        "    return vector_array"
      ],
      "execution_count": null,
      "outputs": []
    },
    {
      "cell_type": "code",
      "metadata": {
        "id": "mLvGPUp7JAbq"
      },
      "source": [
        "#uncomment to compute scaler\n",
        "#scaler = preprocessing.StandardScaler()"
      ],
      "execution_count": null,
      "outputs": []
    },
    {
      "cell_type": "code",
      "metadata": {
        "id": "TAMegPiChuCk"
      },
      "source": [
        "def create_vectors(file_list,\n",
        "                   msg=\"calc...\",\n",
        "                   n_mels=params['n_mels'],\n",
        "                   n_fft=params['n_fft'],\n",
        "                   hop_length=params['hop_length'],\n",
        "                   power=params['power']):\n",
        "  \"\"\"\n",
        "  convert the file_list to a vector array.\n",
        "  get_features() is iterated, and the output vector array is concatenated.\n",
        "    \n",
        "  \"\"\"\n",
        "    \n",
        "  # iterate get_features()\n",
        "  for idx in tqdm(range(len(file_list)), desc=msg):\n",
        "    vector_array = get_features(file_list[idx])\n",
        "\n",
        "    ## uncomment to compute scaler\n",
        "    #scaler.partial_fit(X=vector_array)\n",
        "\n",
        "    if idx == 0:\n",
        "      X = np.empty((len(file_list), vector_array.shape[0], vector_array.shape[1]))  # create X matrix\n",
        "    X[idx,] = vector_array\n",
        "        \n",
        "  return X"
      ],
      "execution_count": null,
      "outputs": []
    },
    {
      "cell_type": "code",
      "metadata": {
        "id": "F__V_2K09eTB",
        "colab": {
          "base_uri": "https://localhost:8080/"
        },
        "outputId": "975f6196-ef9e-4fc1-9507-185b33654ff3"
      },
      "source": [
        "# compute scaler (uncomment the 2 function (define scaler & partial_fit) and comment the transform in function get_features)\n",
        "m = create_vectors(list(df_train.filepath))\n"
      ],
      "execution_count": null,
      "outputs": [
        {
          "output_type": "stream",
          "text": [
            "calc...: 100%|██████████| 3291/3291 [16:52<00:00,  3.25it/s]\n"
          ],
          "name": "stderr"
        }
      ]
    },
    {
      "cell_type": "code",
      "metadata": {
        "id": "Uit87mBJLAl_",
        "colab": {
          "base_uri": "https://localhost:8080/"
        },
        "outputId": "e2547b11-23e4-435f-944d-a6195b2741bf"
      },
      "source": [
        "scaler_name = 'scaler_'+ machine +'.gz'\n",
        "#save scaler\n",
        "joblib.dump(scaler, PATH+scaler_name)\n",
        "\n",
        "# to load:\n",
        "#scaler = joblib.load(PATH+scaler_name)"
      ],
      "execution_count": null,
      "outputs": [
        {
          "output_type": "execute_result",
          "data": {
            "text/plain": [
              "['/content/drive/MyDrive/PMASD/scaler_valve.gz']"
            ]
          },
          "metadata": {
            "tags": []
          },
          "execution_count": 9
        }
      ]
    },
    {
      "cell_type": "code",
      "metadata": {
        "id": "G8_TXyaJ25Pt"
      },
      "source": [
        "# Data Loader & crop\n",
        "\n",
        "class DataGenerator(utils.Sequence):\n",
        "    'Generates data for Keras'\n",
        "    def __init__(self, list_data, batch_size=32, dim=(32,128), shuffle=True, step=8):\n",
        "        'Initialization'\n",
        "        self.dim = dim\n",
        "        self.batch_size = batch_size\n",
        "        self.shuffle = shuffle\n",
        "\n",
        "        self.data = list_data\n",
        "        \n",
        "        self.step = step\n",
        "        self.indexes_start = np.arange(self.data.shape[1]-self.dim[0]+self.step, step=self.step)\n",
        "        self.max = len(self.indexes_start)\n",
        "        self.indexes = np.arange(self.data.shape[0])\n",
        "        \n",
        "        self.indexes = np.repeat(self.indexes, self.max )\n",
        "        self.indexes_start = np.repeat(self.indexes_start, self.data.shape[0])\n",
        "    \n",
        "        self.on_epoch_end()\n",
        "\n",
        "    def __len__(self):\n",
        "        'Denotes the number of batches per epoch'\n",
        "        return int(np.floor(self.data.shape[0] * self.max  / self.batch_size))\n",
        "\n",
        "    def __getitem__(self, index):\n",
        "        'Generate one batch of data'\n",
        "        # Generate indexes of the batch\n",
        "\n",
        "        indexes = self.indexes[index*self.batch_size:(index+1)*self.batch_size]\n",
        "        indexes_start = self.indexes_start[index*self.batch_size:(index+1)*self.batch_size]\n",
        "\n",
        "        # Generate data\n",
        "        X = self.__data_generation(indexes, indexes_start).reshape((self.batch_size, *self.dim, 1))\n",
        "\n",
        "        return X, X\n",
        "\n",
        "    def on_epoch_end(self):\n",
        "        'Updates indexes after each epoch'\n",
        "        \n",
        "        if self.shuffle == True:\n",
        "            np.random.shuffle(self.indexes)\n",
        "            np.random.shuffle(self.indexes_start)\n",
        "\n",
        "\n",
        "    def __data_generation(self, indexes, index_start):\n",
        "        'Generates data containing batch_size samples' # X : (n_samples, *dim, n_channels)\n",
        "        # Initialization\n",
        "        X = np.empty((self.batch_size, *self.dim))\n",
        "\n",
        "        # Generate data\n",
        "        for i, (id_file, id_start) in enumerate(zip(indexes, index_start)):\n",
        "\n",
        "            x = self.data[id_file,]\n",
        "            length, mels = x.shape\n",
        "\n",
        "            start = id_start\n",
        "\n",
        "            start = min(start, length - self.dim[0])\n",
        "            \n",
        "            # crop part of sample\n",
        "            crop = x[start:start+self.dim[0], :]\n",
        "\n",
        "            X[i,] = crop\n",
        "        return X"
      ],
      "execution_count": null,
      "outputs": []
    },
    {
      "cell_type": "code",
      "metadata": {
        "colab": {
          "base_uri": "https://localhost:8080/"
        },
        "id": "K38L1euq-zBB",
        "outputId": "ac11066a-73a2-463d-b58f-06a1c0623ec9"
      },
      "source": [
        "path_train, path_val = train_test_split(list(df_train.filepath), test_size=0.1, random_state=1)\n",
        "\n",
        "list_files_train = create_vectors(path_train)\n",
        "list_files_val = create_vectors(path_val)"
      ],
      "execution_count": null,
      "outputs": [
        {
          "output_type": "stream",
          "text": [
            "calc...: 100%|██████████| 2961/2961 [00:39<00:00, 74.20it/s]\n",
            "calc...: 100%|██████████| 330/330 [00:04<00:00, 71.93it/s]\n"
          ],
          "name": "stderr"
        }
      ]
    },
    {
      "cell_type": "code",
      "metadata": {
        "id": "_HxLeChT9_pc"
      },
      "source": [
        "shape0_feat = 32\n",
        "shape1_feat = params['n_mels']\n",
        "batch_size = 64\n",
        "\n",
        "# load data \n",
        "gen_train = DataGenerator(list_files_train, batch_size=batch_size, dim=(shape0_feat,shape1_feat), step=3)\n",
        "gen_val = DataGenerator(list_files_val,  batch_size=batch_size, dim=(shape0_feat,shape1_feat), shuffle=False, step=3)"
      ],
      "execution_count": null,
      "outputs": []
    },
    {
      "cell_type": "markdown",
      "metadata": {
        "id": "WOhU_EZDMrVr"
      },
      "source": [
        "## Modèle"
      ]
    },
    {
      "cell_type": "code",
      "metadata": {
        "colab": {
          "base_uri": "https://localhost:8080/"
        },
        "id": "lRg0_MNmhuCw",
        "outputId": "5c1fa16b-c45e-4b00-db3a-a6013dc34299"
      },
      "source": [
        "\n",
        "def get_data_shape(layer):\n",
        "    return tuple(int_shape(layer)[1:])\n",
        "\n",
        "\n",
        "def get_model(inputDim, latentDim):\n",
        "    \"\"\"\n",
        "    define the keras model\n",
        "    the model based on the simple convolutional auto encoder \n",
        "    \"\"\"\n",
        "    input_img = Input(shape=(inputDim[0], inputDim[1], 1)) \n",
        "\n",
        "    # encoder\n",
        "    x = Conv2D(32, (5, 5),strides=(1,2), padding='same')(input_img)   #32x128 -> 32x64\n",
        "    x = BatchNormalization()(x)\n",
        "    x = LeakyReLU(alpha=0.4)(x)\n",
        "    x = Conv2D(64, (5, 5),strides=(1,2), padding='same')(x)           #32x32\n",
        "    x = BatchNormalization()(x)\n",
        "    x = LeakyReLU(alpha=0.4)(x)\n",
        "    x = Conv2D(128, (5, 5),strides=(2,2), padding='same')(x)          #16x16\n",
        "    x = BatchNormalization()(x)\n",
        "    x = LeakyReLU(alpha=0.4)(x)\n",
        "    x = Conv2D(256, (3, 3),strides=(2,2), padding='same')(x)          #8x8\n",
        "    x = BatchNormalization()(x)\n",
        "    x = LeakyReLU(alpha=0.4)(x)\n",
        "    x = Conv2D(512, (3, 3),strides=(2,2), padding='same')(x)          #4x4\n",
        "    x = BatchNormalization()(x)\n",
        "    x = LeakyReLU(alpha=0.4)(x)\n",
        "\n",
        "    volumeSize = int_shape(x)\n",
        "    # at this point the representation size is latentDim i.e. latentDim-dimensional\n",
        "    x = Conv2D(latentDim, (4,4), strides=(1,1), padding='valid')(x)\n",
        "    encoded = Flatten()(x)\n",
        "        \n",
        "    # decoder\n",
        "    x = Dense(volumeSize[1] * volumeSize[2] * volumeSize[3])(encoded) \n",
        "    x = Reshape((volumeSize[1], volumeSize[2], 512))(x)                #4x4\n",
        "\n",
        "    x = Conv2DTranspose(256, (3, 3),strides=(2,2), padding='same')(x)  #8x8\n",
        "    x = BatchNormalization()(x)\n",
        "    x = LeakyReLU(alpha=0.4)(x)\n",
        "    x = Conv2DTranspose(128, (3, 3),strides=(2,2), padding='same')(x)  #16x16   \n",
        "    x = BatchNormalization()(x)\n",
        "    x = LeakyReLU(alpha=0.4)(x)\n",
        "    x = Conv2DTranspose(64, (5, 5),strides=(2,2), padding='same')(x)   #32x32\n",
        "    x = BatchNormalization()(x)\n",
        "    x = LeakyReLU(alpha=0.4)(x)\n",
        "    x = Conv2DTranspose(32, (5, 5),strides=(1,2), padding='same')(x)   #32x64\n",
        "    x = BatchNormalization()(x)\n",
        "    x = LeakyReLU(alpha=0.4)(x)\n",
        "    \n",
        "    decoded = Conv2DTranspose(1, (5, 5),strides=(1,2), padding='same')(x) \n",
        "\n",
        "    return Model(inputs=input_img, outputs=decoded)\n",
        "\n",
        "\n",
        "model = get_model((shape0_feat, shape1_feat),40)\n",
        "model.summary() \n",
        "\n",
        "optimizer = Adam(learning_rate=0.001)\n",
        "model.compile(optimizer = optimizer, loss = 'mse')\n",
        "\n",
        "\n",
        "\n",
        "#callbacks\n",
        "folder = 'modelsAE'\n",
        "subf = machine\n",
        "path_model = os.path.join(PATH, folder, subf)\n",
        "#os.makedirs(path_model)\n",
        "\n",
        "lr_plateau = callbacks.ReduceLROnPlateau(monitor = 'val_loss',\n",
        "                                         patience = 3,\n",
        "                                         verbose = 2,\n",
        "                                         mode = 'min')\n",
        "\n",
        "early_stopping = callbacks.EarlyStopping(monitor = 'val_loss',\n",
        "                                         patience = 10,\n",
        "                                         mode = 'min',\n",
        "                                         restore_best_weights = True) \n",
        "\n",
        "checkpoint = callbacks.ModelCheckpoint(filepath = path_model,\n",
        "                                       monitor = 'val_loss',\n",
        "                                       save_best_only = True,\n",
        "                                       save_weights_only = False,\n",
        "                                       mode = 'min',\n",
        "                                       save_freq = 'epoch')\n"
      ],
      "execution_count": null,
      "outputs": [
        {
          "output_type": "stream",
          "text": [
            "Model: \"model\"\n",
            "_________________________________________________________________\n",
            "Layer (type)                 Output Shape              Param #   \n",
            "=================================================================\n",
            "input_1 (InputLayer)         [(None, 32, 128, 1)]      0         \n",
            "_________________________________________________________________\n",
            "conv2d (Conv2D)              (None, 32, 64, 32)        832       \n",
            "_________________________________________________________________\n",
            "batch_normalization (BatchNo (None, 32, 64, 32)        128       \n",
            "_________________________________________________________________\n",
            "leaky_re_lu (LeakyReLU)      (None, 32, 64, 32)        0         \n",
            "_________________________________________________________________\n",
            "conv2d_1 (Conv2D)            (None, 32, 32, 64)        51264     \n",
            "_________________________________________________________________\n",
            "batch_normalization_1 (Batch (None, 32, 32, 64)        256       \n",
            "_________________________________________________________________\n",
            "leaky_re_lu_1 (LeakyReLU)    (None, 32, 32, 64)        0         \n",
            "_________________________________________________________________\n",
            "conv2d_2 (Conv2D)            (None, 16, 16, 128)       204928    \n",
            "_________________________________________________________________\n",
            "batch_normalization_2 (Batch (None, 16, 16, 128)       512       \n",
            "_________________________________________________________________\n",
            "leaky_re_lu_2 (LeakyReLU)    (None, 16, 16, 128)       0         \n",
            "_________________________________________________________________\n",
            "conv2d_3 (Conv2D)            (None, 8, 8, 256)         295168    \n",
            "_________________________________________________________________\n",
            "batch_normalization_3 (Batch (None, 8, 8, 256)         1024      \n",
            "_________________________________________________________________\n",
            "leaky_re_lu_3 (LeakyReLU)    (None, 8, 8, 256)         0         \n",
            "_________________________________________________________________\n",
            "conv2d_4 (Conv2D)            (None, 4, 4, 512)         1180160   \n",
            "_________________________________________________________________\n",
            "batch_normalization_4 (Batch (None, 4, 4, 512)         2048      \n",
            "_________________________________________________________________\n",
            "leaky_re_lu_4 (LeakyReLU)    (None, 4, 4, 512)         0         \n",
            "_________________________________________________________________\n",
            "conv2d_5 (Conv2D)            (None, 1, 1, 40)          327720    \n",
            "_________________________________________________________________\n",
            "flatten (Flatten)            (None, 40)                0         \n",
            "_________________________________________________________________\n",
            "dense (Dense)                (None, 8192)              335872    \n",
            "_________________________________________________________________\n",
            "reshape (Reshape)            (None, 4, 4, 512)         0         \n",
            "_________________________________________________________________\n",
            "conv2d_transpose (Conv2DTran (None, 8, 8, 256)         1179904   \n",
            "_________________________________________________________________\n",
            "batch_normalization_5 (Batch (None, 8, 8, 256)         1024      \n",
            "_________________________________________________________________\n",
            "leaky_re_lu_5 (LeakyReLU)    (None, 8, 8, 256)         0         \n",
            "_________________________________________________________________\n",
            "conv2d_transpose_1 (Conv2DTr (None, 16, 16, 128)       295040    \n",
            "_________________________________________________________________\n",
            "batch_normalization_6 (Batch (None, 16, 16, 128)       512       \n",
            "_________________________________________________________________\n",
            "leaky_re_lu_6 (LeakyReLU)    (None, 16, 16, 128)       0         \n",
            "_________________________________________________________________\n",
            "conv2d_transpose_2 (Conv2DTr (None, 32, 32, 64)        204864    \n",
            "_________________________________________________________________\n",
            "batch_normalization_7 (Batch (None, 32, 32, 64)        256       \n",
            "_________________________________________________________________\n",
            "leaky_re_lu_7 (LeakyReLU)    (None, 32, 32, 64)        0         \n",
            "_________________________________________________________________\n",
            "conv2d_transpose_3 (Conv2DTr (None, 32, 64, 32)        51232     \n",
            "_________________________________________________________________\n",
            "batch_normalization_8 (Batch (None, 32, 64, 32)        128       \n",
            "_________________________________________________________________\n",
            "leaky_re_lu_8 (LeakyReLU)    (None, 32, 64, 32)        0         \n",
            "_________________________________________________________________\n",
            "conv2d_transpose_4 (Conv2DTr (None, 32, 128, 1)        801       \n",
            "=================================================================\n",
            "Total params: 4,133,673\n",
            "Trainable params: 4,130,729\n",
            "Non-trainable params: 2,944\n",
            "_________________________________________________________________\n"
          ],
          "name": "stdout"
        }
      ]
    },
    {
      "cell_type": "code",
      "metadata": {
        "colab": {
          "base_uri": "https://localhost:8080/"
        },
        "id": "-V0eKPBOhuCx",
        "outputId": "af0dbd69-5d78-4a97-ff78-a66e54617824"
      },
      "source": [
        "#train\n",
        "history = model.fit(gen_train,\n",
        "                    validation_data=gen_val,\n",
        "                    epochs=100,\n",
        "                    callbacks=[lr_plateau, early_stopping, checkpoint])"
      ],
      "execution_count": null,
      "outputs": [
        {
          "output_type": "stream",
          "text": [
            "Epoch 1/100\n",
            "4908/4908 [==============================] - 280s 55ms/step - loss: 0.4551 - val_loss: 0.4084\n",
            "INFO:tensorflow:Assets written to: ./drive/MyDrive/PMASD/modelsAE/fan/assets\n",
            "Epoch 2/100\n",
            "4908/4908 [==============================] - 276s 56ms/step - loss: 0.4035 - val_loss: 0.4024\n",
            "INFO:tensorflow:Assets written to: ./drive/MyDrive/PMASD/modelsAE/fan/assets\n",
            "Epoch 3/100\n",
            "4908/4908 [==============================] - 276s 56ms/step - loss: 0.3999 - val_loss: 0.4010\n",
            "INFO:tensorflow:Assets written to: ./drive/MyDrive/PMASD/modelsAE/fan/assets\n",
            "Epoch 4/100\n",
            "4908/4908 [==============================] - 276s 56ms/step - loss: 0.3979 - val_loss: 0.3998\n",
            "INFO:tensorflow:Assets written to: ./drive/MyDrive/PMASD/modelsAE/fan/assets\n",
            "Epoch 5/100\n",
            "4908/4908 [==============================] - 276s 56ms/step - loss: 0.3968 - val_loss: 0.3990\n",
            "INFO:tensorflow:Assets written to: ./drive/MyDrive/PMASD/modelsAE/fan/assets\n",
            "Epoch 6/100\n",
            "4908/4908 [==============================] - 276s 56ms/step - loss: 0.3959 - val_loss: 0.3988\n",
            "INFO:tensorflow:Assets written to: ./drive/MyDrive/PMASD/modelsAE/fan/assets\n",
            "Epoch 7/100\n",
            "4908/4908 [==============================] - 276s 56ms/step - loss: 0.3951 - val_loss: 0.3987\n",
            "INFO:tensorflow:Assets written to: ./drive/MyDrive/PMASD/modelsAE/fan/assets\n",
            "Epoch 8/100\n",
            "4908/4908 [==============================] - 276s 56ms/step - loss: 0.3946 - val_loss: 0.3984\n",
            "INFO:tensorflow:Assets written to: ./drive/MyDrive/PMASD/modelsAE/fan/assets\n",
            "Epoch 9/100\n",
            "4908/4908 [==============================] - 276s 56ms/step - loss: 0.3941 - val_loss: 0.3984\n",
            "Epoch 10/100\n",
            "4908/4908 [==============================] - 275s 56ms/step - loss: 0.3938 - val_loss: 0.3992\n",
            "Epoch 11/100\n",
            "4908/4908 [==============================] - 276s 56ms/step - loss: 0.3934 - val_loss: 0.3981\n",
            "INFO:tensorflow:Assets written to: ./drive/MyDrive/PMASD/modelsAE/fan/assets\n",
            "Epoch 12/100\n",
            "4908/4908 [==============================] - 276s 56ms/step - loss: 0.3931 - val_loss: 0.3982\n",
            "Epoch 13/100\n",
            "4908/4908 [==============================] - 275s 56ms/step - loss: 0.3928 - val_loss: 0.3979\n",
            "INFO:tensorflow:Assets written to: ./drive/MyDrive/PMASD/modelsAE/fan/assets\n",
            "Epoch 14/100\n",
            "4908/4908 [==============================] - 276s 56ms/step - loss: 0.3926 - val_loss: 0.3980\n",
            "Epoch 15/100\n",
            "4908/4908 [==============================] - 276s 56ms/step - loss: 0.3922 - val_loss: 0.3979\n",
            "Epoch 16/100\n",
            "4908/4908 [==============================] - 276s 56ms/step - loss: 0.3921 - val_loss: 0.3977\n",
            "INFO:tensorflow:Assets written to: ./drive/MyDrive/PMASD/modelsAE/fan/assets\n",
            "Epoch 17/100\n",
            "4908/4908 [==============================] - 275s 56ms/step - loss: 0.3919 - val_loss: 0.3980\n",
            "Epoch 18/100\n",
            "4908/4908 [==============================] - 276s 56ms/step - loss: 0.3917 - val_loss: 0.3980\n",
            "Epoch 19/100\n",
            "4908/4908 [==============================] - 276s 56ms/step - loss: 0.3915 - val_loss: 0.3978\n",
            "\n",
            "Epoch 00019: ReduceLROnPlateau reducing learning rate to 0.00010000000474974513.\n",
            "Epoch 20/100\n",
            "4908/4908 [==============================] - 276s 56ms/step - loss: 0.3904 - val_loss: 0.3970\n",
            "INFO:tensorflow:Assets written to: ./drive/MyDrive/PMASD/modelsAE/fan/assets\n",
            "Epoch 21/100\n",
            "4908/4908 [==============================] - 276s 56ms/step - loss: 0.3901 - val_loss: 0.3970\n",
            "Epoch 22/100\n",
            "4908/4908 [==============================] - 276s 56ms/step - loss: 0.3900 - val_loss: 0.3971\n",
            "Epoch 23/100\n",
            "4908/4908 [==============================] - 276s 56ms/step - loss: 0.3900 - val_loss: 0.3971\n",
            "\n",
            "Epoch 00023: ReduceLROnPlateau reducing learning rate to 1.0000000474974514e-05.\n",
            "Epoch 24/100\n",
            "4908/4908 [==============================] - 276s 56ms/step - loss: 0.3898 - val_loss: 0.3969\n",
            "INFO:tensorflow:Assets written to: ./drive/MyDrive/PMASD/modelsAE/fan/assets\n",
            "Epoch 25/100\n",
            "4908/4908 [==============================] - 276s 56ms/step - loss: 0.3897 - val_loss: 0.3969\n",
            "Epoch 26/100\n",
            "4908/4908 [==============================] - 276s 56ms/step - loss: 0.3897 - val_loss: 0.3969\n",
            "\n",
            "Epoch 00026: ReduceLROnPlateau reducing learning rate to 1.0000000656873453e-06.\n",
            "INFO:tensorflow:Assets written to: ./drive/MyDrive/PMASD/modelsAE/fan/assets\n",
            "Epoch 27/100\n",
            "4908/4908 [==============================] - 276s 56ms/step - loss: 0.3897 - val_loss: 0.3969\n",
            "Epoch 28/100\n",
            "4908/4908 [==============================] - 276s 56ms/step - loss: 0.3898 - val_loss: 0.3969\n",
            "Epoch 29/100\n",
            "4908/4908 [==============================] - 276s 56ms/step - loss: 0.3897 - val_loss: 0.3969\n",
            "\n",
            "Epoch 00029: ReduceLROnPlateau reducing learning rate to 1.0000001111620805e-07.\n",
            "Epoch 30/100\n",
            "4908/4908 [==============================] - 276s 56ms/step - loss: 0.3897 - val_loss: 0.3970\n",
            "Epoch 31/100\n",
            "4908/4908 [==============================] - 276s 56ms/step - loss: 0.3896 - val_loss: 0.3969\n",
            "Epoch 32/100\n",
            "4908/4908 [==============================] - 276s 56ms/step - loss: 0.3897 - val_loss: 0.3969\n",
            "\n",
            "Epoch 00032: ReduceLROnPlateau reducing learning rate to 1.000000082740371e-08.\n",
            "Epoch 33/100\n",
            "4908/4908 [==============================] - 276s 56ms/step - loss: 0.3896 - val_loss: 0.3969\n",
            "Epoch 34/100\n",
            "4908/4908 [==============================] - 276s 56ms/step - loss: 0.3897 - val_loss: 0.3969\n",
            "INFO:tensorflow:Assets written to: ./drive/MyDrive/PMASD/modelsAE/fan/assets\n",
            "Epoch 35/100\n",
            "4908/4908 [==============================] - 276s 56ms/step - loss: 0.3898 - val_loss: 0.3969\n",
            "\n",
            "Epoch 00035: ReduceLROnPlateau reducing learning rate to 1.000000082740371e-09.\n",
            "INFO:tensorflow:Assets written to: ./drive/MyDrive/PMASD/modelsAE/fan/assets\n",
            "Epoch 36/100\n",
            "4908/4908 [==============================] - 276s 56ms/step - loss: 0.3897 - val_loss: 0.3969\n",
            "Epoch 37/100\n",
            "4908/4908 [==============================] - 276s 56ms/step - loss: 0.3897 - val_loss: 0.3969\n",
            "Epoch 38/100\n",
            "4908/4908 [==============================] - 276s 56ms/step - loss: 0.3897 - val_loss: 0.3969\n",
            "\n",
            "Epoch 00038: ReduceLROnPlateau reducing learning rate to 1.000000082740371e-10.\n",
            "Epoch 39/100\n",
            "4908/4908 [==============================] - 276s 56ms/step - loss: 0.3896 - val_loss: 0.3969\n",
            "Epoch 40/100\n",
            "4908/4908 [==============================] - 276s 56ms/step - loss: 0.3897 - val_loss: 0.3969\n",
            "Epoch 41/100\n",
            "4908/4908 [==============================] - 276s 56ms/step - loss: 0.3897 - val_loss: 0.3969\n",
            "\n",
            "Epoch 00041: ReduceLROnPlateau reducing learning rate to 1.000000082740371e-11.\n",
            "Epoch 42/100\n",
            "4908/4908 [==============================] - 276s 56ms/step - loss: 0.3898 - val_loss: 0.3969\n",
            "Epoch 43/100\n",
            "4908/4908 [==============================] - 276s 56ms/step - loss: 0.3898 - val_loss: 0.3969\n",
            "Epoch 44/100\n",
            "4908/4908 [==============================] - 276s 56ms/step - loss: 0.3897 - val_loss: 0.3969\n",
            "\n",
            "Epoch 00044: ReduceLROnPlateau reducing learning rate to 1.000000082740371e-12.\n",
            "Epoch 45/100\n",
            "4908/4908 [==============================] - 277s 56ms/step - loss: 0.3897 - val_loss: 0.3969\n"
          ],
          "name": "stdout"
        }
      ]
    },
    {
      "cell_type": "code",
      "metadata": {
        "colab": {
          "base_uri": "https://localhost:8080/",
          "height": 388
        },
        "id": "9IMjL70_huCz",
        "outputId": "4a9d59a1-e110-4635-828d-82b525b74fde"
      },
      "source": [
        "plt.figure(figsize = (10,6))\n",
        "plt.plot(history.history['loss'], label = 'Train')\n",
        "plt.plot(history.history['val_loss'], label = 'validation')\n",
        "plt.xlabel('Epoque')\n",
        "plt.ylabel('Perte')\n",
        "plt.legend()\n",
        "plt.show()"
      ],
      "execution_count": null,
      "outputs": [
        {
          "output_type": "display_data",
          "data": {
            "image/png": "[encoded data removed]",
            "text/plain": [
              "<Figure size 720x432 with 1 Axes>"
            ]
          },
          "metadata": {
            "tags": [],
            "needs_background": "light"
          }
        }
      ]
    },
    {
      "cell_type": "markdown",
      "metadata": {
        "id": "_aE3KlUpMyW6"
      },
      "source": [
        "## Évaluation du modèle"
      ]
    },
    {
      "cell_type": "code",
      "metadata": {
        "id": "op-W6fQrLCJp",
        "colab": {
          "base_uri": "https://localhost:8080/"
        },
        "outputId": "c0007705-f9a9-4df6-8082-3dc68a744c9c"
      },
      "source": [
        "# prédiction X_test\n",
        "y_test = np.array(df_test.label)\n",
        "\n",
        "test_pred = [0. for k in range(len(df_test))]\n",
        "\n",
        "for file_idx, file_path in tqdm(enumerate(df_test.filepath), total=len(df_test)):\n",
        "\n",
        "    # get audio features and normalise (scaler.transform must be active in get_features)\n",
        "    vector_array = get_features(file_path)\n",
        "\n",
        "    length, _ = vector_array.shape\n",
        "    dim = 32\n",
        "    step = 3\n",
        "    idex = np.arange(length-dim+step, step=step)\n",
        "    for idx in range(len(idex)):\n",
        "        start = min(idex[idx], length - dim)\n",
        "        vector = vector_array[start:start+dim,:]\n",
        "        vector = vector.reshape((1, vector.shape[0], vector.shape[1]))\n",
        "        if idx==0:\n",
        "            batch = vector\n",
        "        else:\n",
        "            batch = np.concatenate((batch, vector))\n",
        "\n",
        "    # add channels dimension\n",
        "    data = batch.reshape((batch.shape[0], batch.shape[1], batch.shape[2], 1))\n",
        "    # calculate predictions\n",
        "    errors = np.mean(np.square(data - model(data)), axis=-1)\n",
        "    test_pred[file_idx] = np.mean(errors)\n",
        "    \n"
      ],
      "execution_count": null,
      "outputs": [
        {
          "output_type": "stream",
          "text": [
            "100%|██████████| 879/879 [04:43<00:00,  3.10it/s]\n"
          ],
          "name": "stderr"
        }
      ]
    },
    {
      "cell_type": "code",
      "metadata": {
        "colab": {
          "base_uri": "https://localhost:8080/",
          "height": 312
        },
        "id": "6DcSIBKOLCJq",
        "outputId": "a52b391a-703a-4d4f-f1cf-bea378e09e55"
      },
      "source": [
        "test_pred = np.array(test_pred)\n",
        "\n",
        "AUC_score = roc_auc_score(y_test, test_pred)\n",
        "print('AUC machine:', AUC_score.round(4))\n",
        "\n",
        "fpr, tpr, seuils = metrics.roc_curve(y_test, test_pred, pos_label=None)\n",
        "\n",
        "plt.plot(fpr, tpr, color='orange', label='Modèle (AUC = %0.2f)' % AUC_score)\n",
        "plt.plot([0, 1], [0, 1], color='navy', lw=2, linestyle='--', label='Aléatoire (AUC = 0.5)')\n",
        "plt.axis([0.0, 1.0, 0.0, 1.05])\n",
        "plt.xlabel('Taux faux positifs')\n",
        "plt.ylabel('Taux vrais positifs')\n",
        "plt.title('Courbe ROC')\n",
        "plt.legend(loc=\"lower right\")\n",
        "plt.show()"
      ],
      "execution_count": null,
      "outputs": [
        {
          "output_type": "stream",
          "text": [
            "AUC machine: 0.7935\n"
          ],
          "name": "stdout"
        },
        {
          "output_type": "display_data",
          "data": {
            "image/png": "[encoded data removed]",
            "text/plain": [
              "<Figure size 432x288 with 1 Axes>"
            ]
          },
          "metadata": {
            "tags": [],
            "needs_background": "light"
          }
        }
      ]
    },
    {
      "cell_type": "code",
      "metadata": {
        "id": "UVnrKfTK8gBc"
      },
      "source": [
        "# Compared to metrics such as the subset accuracy, the Hamming loss, or the F1 score, ROC doesn’t require optimizing a threshold for each label\n",
        "# https://scikit-learn.org/stable/modules/model_evaluation.html#roc-metrics"
      ],
      "execution_count": null,
      "outputs": []
    },
    {
      "cell_type": "code",
      "metadata": {
        "id": "vTKGmjpq8Qxk"
      },
      "source": [
        "# AUC par ID machine\n",
        "\n",
        "idx_00 = df_test.index[df_test.id=='00']\n",
        "idx_02 = df_test.index[df_test.id=='02']\n",
        "idx_04 = df_test.index[df_test.id=='04']\n",
        "idx_06 = df_test.index[df_test.id=='06']\n",
        "\n",
        "y_test_00 = df_test.label[idx_00]\n",
        "y_test_02 = df_test.label[idx_02]\n",
        "y_test_04 = df_test.label[idx_04]\n",
        "y_test_06 = df_test.label[idx_06]\n",
        "\n",
        "test_pred_00 = test_pred[idx_00]\n",
        "test_pred_02 = test_pred[idx_02]\n",
        "test_pred_04 = test_pred[idx_04]\n",
        "test_pred_06 = test_pred[idx_06]"
      ],
      "execution_count": null,
      "outputs": []
    },
    {
      "cell_type": "code",
      "metadata": {
        "id": "fh3z0QbN8QrB"
      },
      "source": [
        "def calculate_auc(y_test_idx, test_pred_idx):\n",
        "  \n",
        "  AUC_sc = roc_auc_score(y_test_idx, test_pred_idx).round(4)\n",
        "  print('AUC:', AUC_sc)\n",
        "  return AUC_sc"
      ],
      "execution_count": null,
      "outputs": []
    },
    {
      "cell_type": "code",
      "metadata": {
        "colab": {
          "base_uri": "https://localhost:8080/"
        },
        "id": "YE4IwhbG8Qn-",
        "outputId": "e690806e-a78b-4b31-b486-64f893f1fe9e"
      },
      "source": [
        "# AUC du modèle pour chaque ID machine\n",
        "AUC_00 = calculate_auc(y_test_00, test_pred_00)"
      ],
      "execution_count": null,
      "outputs": [
        {
          "output_type": "stream",
          "text": [
            "AUC: 0.766\n"
          ],
          "name": "stdout"
        }
      ]
    },
    {
      "cell_type": "code",
      "metadata": {
        "colab": {
          "base_uri": "https://localhost:8080/"
        },
        "id": "WWza3vMe8Qku",
        "outputId": "e511a6af-e7f4-4c68-9358-6cbefccc2201"
      },
      "source": [
        "AUC_02 = calculate_auc(y_test_02, test_pred_02)"
      ],
      "execution_count": null,
      "outputs": [
        {
          "output_type": "stream",
          "text": [
            "AUC: 0.8364\n"
          ],
          "name": "stdout"
        }
      ]
    },
    {
      "cell_type": "code",
      "metadata": {
        "colab": {
          "base_uri": "https://localhost:8080/"
        },
        "id": "S2BAU6Py8Qg-",
        "outputId": "0192f405-a9fa-42b7-a3e2-20636dd1bd87"
      },
      "source": [
        "AUC_04 = calculate_auc(y_test_04, test_pred_04)"
      ],
      "execution_count": null,
      "outputs": [
        {
          "output_type": "stream",
          "text": [
            "AUC: 0.8422\n"
          ],
          "name": "stdout"
        }
      ]
    },
    {
      "cell_type": "code",
      "metadata": {
        "colab": {
          "base_uri": "https://localhost:8080/"
        },
        "id": "masFK8mK8QdZ",
        "outputId": "6e007474-035f-4553-a31f-f7fccd9ce6c0"
      },
      "source": [
        "AUC_06 = calculate_auc(y_test_06, test_pred_06)"
      ],
      "execution_count": null,
      "outputs": [
        {
          "output_type": "stream",
          "text": [
            "AUC: 0.7447\n"
          ],
          "name": "stdout"
        }
      ]
    },
    {
      "cell_type": "markdown",
      "metadata": {
        "id": "kwtaw7iTLFN9"
      },
      "source": [
        "## Prédiction des labels"
      ]
    },
    {
      "cell_type": "code",
      "metadata": {
        "id": "AuAYqjFK5MXK"
      },
      "source": [
        "# load model from file\n",
        "model = tf.saved_model.load(path_model+'/')"
      ],
      "execution_count": null,
      "outputs": []
    },
    {
      "cell_type": "markdown",
      "metadata": {
        "id": "vxBeJgfXLL0e"
      },
      "source": [
        "### Calcul du seuil"
      ]
    },
    {
      "cell_type": "code",
      "metadata": {
        "colab": {
          "base_uri": "https://localhost:8080/"
        },
        "id": "ci2jey9W5Trc",
        "outputId": "1628d1d1-7269-4ad7-9ba2-2da328a63e2d"
      },
      "source": [
        "# Prédiction des données d'entraînement pour définir le seuil\n",
        "\n",
        "# L'entrée à l'entraînement du modèle est un génerateur. \n",
        "# Pour connaître la prédiction du modèle pour l'ensemble complet de train on doit faire le même process que pour test\n",
        "\n",
        "predicted = [0. for k in range(len(df_train))]\n",
        "\n",
        "for file_idx, file_path in tqdm(enumerate(df_train.filepath), total=len(df_train)):\n",
        "\n",
        "    # audio features and normalise (scaler.transform must be active in get_features)\n",
        "    vector_array = get_features(file_path)\n",
        "\n",
        "    length, _ = vector_array.shape\n",
        "    dim = 32\n",
        "    step = 3\n",
        "    idex = np.arange(length-dim+step, step=step)\n",
        "    for idx in range(len(idex)):\n",
        "        start = min(idex[idx], length - dim)\n",
        "        vector = vector_array[start:start+dim,:]\n",
        "        vector = vector.reshape((1, vector.shape[0], vector.shape[1]))\n",
        "        if idx==0:\n",
        "            batch = vector\n",
        "        else:\n",
        "            batch = np.concatenate((batch, vector))\n",
        "\n",
        "    # add channels dimension\n",
        "    data = batch.reshape((batch.shape[0], batch.shape[1], batch.shape[2], 1))\n",
        "    # calculate predictions\n",
        "    mse = np.mean(np.square(data - model(data)), axis=-1)\n",
        "    predicted[file_idx] = np.mean(mse)"
      ],
      "execution_count": null,
      "outputs": [
        {
          "output_type": "stream",
          "text": [
            "100%|██████████| 3291/3291 [02:42<00:00, 20.22it/s]\n"
          ],
          "name": "stderr"
        }
      ]
    },
    {
      "cell_type": "code",
      "metadata": {
        "id": "6kUcYqR5ywYd"
      },
      "source": [
        "perte = np.array(perte)\n",
        "\n",
        "# calcul du seuil\n",
        "seuil_90 = np.percentile(perte, 90)\n",
        "seuil_95 = np.percentile(perte, 95)\n",
        "seuil_avg = np.mean(perte)"
      ],
      "execution_count": null,
      "outputs": []
    },
    {
      "cell_type": "code",
      "metadata": {
        "id": "qc1yklzTKez8"
      },
      "source": [
        "def metriques(y_test, test_pred, seuil):\n",
        "  test_df = pd.DataFrame({\n",
        "      'real_class': y_test,\n",
        "      'predicted_class': [1 if error>seuil else 0 for error in test_pred]})\n",
        "\n",
        "  # Matrice de confusion\n",
        "  print(pd.crosstab(test_df['real_class'], test_df['predicted_class']),'\\n')\n",
        "\n",
        "  print(metrics.classification_report(test_df['real_class'], test_df['predicted_class']))\n",
        "\n"
      ],
      "execution_count": null,
      "outputs": []
    },
    {
      "cell_type": "code",
      "metadata": {
        "id": "Nlg9QD-MXhdU",
        "colab": {
          "base_uri": "https://localhost:8080/"
        },
        "outputId": "ac9d8d2d-871e-44d2-f854-f8fbdd99c492"
      },
      "source": [
        "metriques(y_test, test_pred, seuil_90)"
      ],
      "execution_count": null,
      "outputs": [
        {
          "output_type": "stream",
          "text": [
            "predicted_class    0\n",
            "real_class          \n",
            "0                400\n",
            "1                479 \n",
            "\n",
            "              precision    recall  f1-score   support\n",
            "\n",
            "           0       0.46      1.00      0.63       400\n",
            "           1       0.00      0.00      0.00       479\n",
            "\n",
            "    accuracy                           0.46       879\n",
            "   macro avg       0.23      0.50      0.31       879\n",
            "weighted avg       0.21      0.46      0.28       879\n",
            "\n"
          ],
          "name": "stdout"
        },
        {
          "output_type": "stream",
          "text": [
            "/usr/local/lib/python3.6/dist-packages/sklearn/metrics/_classification.py:1272: UndefinedMetricWarning: Precision and F-score are ill-defined and being set to 0.0 in labels with no predicted samples. Use `zero_division` parameter to control this behavior.\n",
            "  _warn_prf(average, modifier, msg_start, len(result))\n"
          ],
          "name": "stderr"
        }
      ]
    },
    {
      "cell_type": "code",
      "metadata": {
        "colab": {
          "base_uri": "https://localhost:8080/"
        },
        "id": "o0WxmsebHrpb",
        "outputId": "f50d74b2-f5c0-44b5-90ab-07709f3923f5"
      },
      "source": [
        "metriques(y_test, test_pred, seuil_avg)"
      ],
      "execution_count": null,
      "outputs": [
        {
          "output_type": "stream",
          "text": [
            "predicted_class    0    1\n",
            "real_class               \n",
            "0                269  131\n",
            "1                 69  410 \n",
            "\n",
            "              precision    recall  f1-score   support\n",
            "\n",
            "           0       0.80      0.67      0.73       400\n",
            "           1       0.76      0.86      0.80       479\n",
            "\n",
            "    accuracy                           0.77       879\n",
            "   macro avg       0.78      0.76      0.77       879\n",
            "weighted avg       0.78      0.77      0.77       879\n",
            "\n"
          ],
          "name": "stdout"
        }
      ]
    },
    {
      "cell_type": "code",
      "metadata": {
        "id": "pF9z7B3GZHpI"
      },
      "source": [
        ""
      ],
      "execution_count": null,
      "outputs": []
    }
  ]
}